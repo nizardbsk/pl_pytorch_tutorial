{
  "nbformat": 4,
  "nbformat_minor": 0,
  "metadata": {
    "colab": {
      "provenance": [],
      "authorship_tag": "ABX9TyPPQFJGQHII8RAhnEC3COXw",
      "include_colab_link": true
    },
    "kernelspec": {
      "name": "python3",
      "display_name": "Python 3"
    },
    "language_info": {
      "name": "python"
    }
  },
  "cells": [
    {
      "cell_type": "markdown",
      "metadata": {
        "id": "view-in-github",
        "colab_type": "text"
      },
      "source": [
        "<a href=\"https://colab.research.google.com/github/nizardbsk/pl_pytorch_tutorial/blob/main/7_linear_regression.ipynb\" target=\"_parent\"><img src=\"https://colab.research.google.com/assets/colab-badge.svg\" alt=\"Open In Colab\"/></a>"
      ]
    },
    {
      "cell_type": "code",
      "execution_count": 2,
      "metadata": {
        "id": "aX2Ch0SKgej3"
      },
      "outputs": [],
      "source": [
        "# 1) Design model (input,output size,forward pass)\n",
        "# 2) Construct loss and optimizer\n",
        "# 3) Training loop\n",
        "#   - forward pass : compute prediction and loss\n",
        "#   - backward pass : gradients\n",
        "#   - update weights\n",
        "import torch\n",
        "import torch.nn as nn\n",
        "import numpy as np\n",
        "from sklearn import datasets\n",
        "import matplotlib.pyplot as plt"
      ]
    },
    {
      "cell_type": "code",
      "source": [
        "# prepare data\n",
        "X_numpy,Y_numpy = datasets.make_regression(n_samples=100,n_features=1,noise=20,random_state=1)\n",
        "\n",
        "X=torch.from_numpy(X_numpy.astype(np.float32))\n",
        "y=torch.from_numpy(Y_numpy.astype(np.float32))\n",
        "y = y.view(y.shape[0],1)\n",
        "n_samples,n_features = X.shape\n",
        "print(f'x : {X[:15]}, y : {y[:15]},input : {X.shape}, test : {torch.div(y,X)[:15]}')"
      ],
      "metadata": {
        "colab": {
          "base_uri": "https://localhost:8080/"
        },
        "id": "E6qmC6pLg9pk",
        "outputId": "2e7d1fa1-ea9a-481d-ed59-d2e5c692eace"
      },
      "execution_count": 12,
      "outputs": [
        {
          "output_type": "stream",
          "name": "stdout",
          "text": [
            "x : tensor([[-0.6118],\n",
            "        [-0.2494],\n",
            "        [ 0.4885],\n",
            "        [ 0.7620],\n",
            "        [ 1.5198],\n",
            "        [ 0.3776],\n",
            "        [ 0.5129],\n",
            "        [-0.6712],\n",
            "        [-1.3965],\n",
            "        [ 0.3156],\n",
            "        [-0.6370],\n",
            "        [-0.3968],\n",
            "        [-1.1006],\n",
            "        [ 0.9009],\n",
            "        [-1.0999]]), y : tensor([[-55.5386],\n",
            "        [-10.6620],\n",
            "        [ 22.7574],\n",
            "        [101.0961],\n",
            "        [144.3376],\n",
            "        [ 33.2888],\n",
            "        [ 33.0153],\n",
            "        [-25.8870],\n",
            "        [-99.6391],\n",
            "        [ 23.8031],\n",
            "        [-45.5887],\n",
            "        [ -8.3388],\n",
            "        [-95.3154],\n",
            "        [ 36.4073],\n",
            "        [-87.2926]]),input : torch.Size([100, 1]), test : tensor([[ 90.7855],\n",
            "        [ 42.7556],\n",
            "        [ 46.5846],\n",
            "        [132.6701],\n",
            "        [ 94.9704],\n",
            "        [ 88.1674],\n",
            "        [ 64.3661],\n",
            "        [ 38.5655],\n",
            "        [ 71.3494],\n",
            "        [ 75.4133],\n",
            "        [ 71.5683],\n",
            "        [ 21.0175],\n",
            "        [ 86.6016],\n",
            "        [ 40.4141],\n",
            "        [ 79.3648]])\n"
          ]
        }
      ]
    },
    {
      "cell_type": "code",
      "source": [
        "# 1) model\n",
        "in_size = n_features\n",
        "out_size = 1\n",
        "model = nn.Linear(in_size,out_size)\n",
        "\n",
        "# 2) loss and optimizer\n",
        "lr_rate = 0.01\n",
        "criterion = nn.MSELoss()\n",
        "optimizer = torch.optim.SGD(model.parameters(),lr=lr_rate)\n",
        "\n",
        "# 3) training loop\n",
        "n_epochs = 100\n",
        "for epoch in range(n_epochs):\n",
        "  #forward pass and loss\n",
        "  y_predicted = model(X)\n",
        "  loss = criterion(y_predicted,y)\n",
        "\n",
        "  #backward pass\n",
        "  loss.backward()\n",
        "\n",
        "  # update\n",
        "  optimizer.step()\n",
        "  optimizer.zero_grad()\n",
        "\n",
        "  if (epoch+1)% 10 == 0:\n",
        "    print(f'epoch {epoch+1}, loss {loss.item():.4} ')\n",
        "# plot\n",
        "predicted = model(X).detach().numpy()\n",
        "plt.plot(X_numpy,Y_numpy,'ro')\n",
        "plt.plot(X_numpy,predicted,'b')\n",
        "plt.show()"
      ],
      "metadata": {
        "colab": {
          "base_uri": "https://localhost:8080/",
          "height": 604
        },
        "id": "7PwWRXjUiVCh",
        "outputId": "8875b285-c530-46d6-a7f2-36e57c1bfae9"
      },
      "execution_count": 7,
      "outputs": [
        {
          "output_type": "stream",
          "name": "stdout",
          "text": [
            "epoch 10, loss 4.414e+03 \n",
            "epoch 20, loss 3.295e+03 \n",
            "epoch 30, loss 2.484e+03 \n",
            "epoch 40, loss 1.897e+03 \n",
            "epoch 50, loss 1.471e+03 \n",
            "epoch 60, loss 1.161e+03 \n",
            "epoch 70, loss 936.0 \n",
            "epoch 80, loss 772.3 \n",
            "epoch 90, loss 653.2 \n",
            "epoch 100, loss 566.5 \n"
          ]
        },
        {
          "output_type": "display_data",
          "data": {
            "text/plain": [
              "<Figure size 640x480 with 1 Axes>"
            ],
            "image/png": "[encoded data removed]"
          },
          "metadata": {}
        }
      ]
    }
  ]
}