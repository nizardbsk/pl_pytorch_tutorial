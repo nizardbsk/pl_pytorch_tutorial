{
  "nbformat": 4,
  "nbformat_minor": 0,
  "metadata": {
    "colab": {
      "provenance": [],
      "authorship_tag": "ABX9TyM7+efUKCEkTE2jvRGBhvGz",
      "include_colab_link": true
    },
    "kernelspec": {
      "name": "python3",
      "display_name": "Python 3"
    },
    "language_info": {
      "name": "python"
    }
  },
  "cells": [
    {
      "cell_type": "markdown",
      "metadata": {
        "id": "view-in-github",
        "colab_type": "text"
      },
      "source": [
        "<a href=\"https://colab.research.google.com/github/nizardbsk/pl_pytorch_tutorial/blob/main/2_gradient_calc_Autograd.ipynb\" target=\"_parent\"><img src=\"https://colab.research.google.com/assets/colab-badge.svg\" alt=\"Open In Colab\"/></a>"
      ]
    },
    {
      "cell_type": "code",
      "execution_count": 2,
      "metadata": {
        "colab": {
          "base_uri": "https://localhost:8080/"
        },
        "id": "nbcIexsegSS-",
        "outputId": "edd6a9f9-b368-4851-c3f5-126e7c21dc00"
      },
      "outputs": [
        {
          "output_type": "stream",
          "name": "stdout",
          "text": [
            "tensor([ 1.5880,  0.7394, -0.8435], requires_grad=True)\n"
          ]
        }
      ],
      "source": [
        "import torch\n",
        "x = torch.randn(3,requires_grad=True)\n",
        "print(x)"
      ]
    },
    {
      "cell_type": "markdown",
      "source": [
        "requires grad = True,allows us to calculate the gradient in respzct to x in the future"
      ],
      "metadata": {
        "id": "0k-zepklgq6U"
      }
    },
    {
      "cell_type": "code",
      "source": [
        "y = x+2\n",
        "print(y)\n",
        "z= y*y*2\n",
        "z=z.mean()\n",
        "print(z)"
      ],
      "metadata": {
        "colab": {
          "base_uri": "https://localhost:8080/"
        },
        "id": "CeZ_LvZ4g3PJ",
        "outputId": "b8de58fe-ed0f-4244-a165-5da55c0a12e8"
      },
      "execution_count": 6,
      "outputs": [
        {
          "output_type": "stream",
          "name": "stdout",
          "text": [
            "tensor([3.5880, 2.7394, 1.1565], grad_fn=<AddBackward0>)\n",
            "tensor(14.4766, grad_fn=<MeanBackward0>)\n"
          ]
        }
      ]
    },
    {
      "cell_type": "code",
      "source": [
        "# calculating the gradient of z with resspect to x dz/dx\n",
        "# if requires_grad in x was 'False',this won't be possible\n",
        "z.backward()# dz/dx\n",
        "print(x.grad)"
      ],
      "metadata": {
        "colab": {
          "base_uri": "https://localhost:8080/"
        },
        "id": "pkmQJRUbhT9Z",
        "outputId": "43c7cede-128c-4525-c82b-75dbf075bf05"
      },
      "execution_count": 7,
      "outputs": [
        {
          "output_type": "stream",
          "name": "stdout",
          "text": [
            "tensor([4.7839, 3.6525, 1.5419])\n"
          ]
        }
      ]
    },
    {
      "cell_type": "code",
      "source": [
        "# simple training example\n",
        "weights  =torch.ones(4,requires_grad=True)\n",
        "for epoch in range(2):\n",
        "  model_outputs = (weights*3).sum()\n",
        "  model_outputs.backward()\n",
        "  print(weights.grad)\n",
        "  weights.grad.zero_()"
      ],
      "metadata": {
        "colab": {
          "base_uri": "https://localhost:8080/"
        },
        "id": "u6lL1O9Ri7lO",
        "outputId": "a5160970-c168-47ca-c79a-67fbf91924bf"
      },
      "execution_count": 10,
      "outputs": [
        {
          "output_type": "stream",
          "name": "stdout",
          "text": [
            "tensor([3., 3., 3., 3.])\n",
            "tensor([3., 3., 3., 3.])\n"
          ]
        }
      ]
    }
  ]
}