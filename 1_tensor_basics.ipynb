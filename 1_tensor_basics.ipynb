{
  "nbformat": 4,
  "nbformat_minor": 0,
  "metadata": {
    "colab": {
      "provenance": [],
      "authorship_tag": "ABX9TyNg22zNNeDFmcSdZWRyuKxb",
      "include_colab_link": true
    },
    "kernelspec": {
      "name": "python3",
      "display_name": "Python 3"
    },
    "language_info": {
      "name": "python"
    }
  },
  "cells": [
    {
      "cell_type": "markdown",
      "metadata": {
        "id": "view-in-github",
        "colab_type": "text"
      },
      "source": [
        "<a href=\"https://colab.research.google.com/github/nizardbsk/pl_pytorch_tutorial/blob/main/1_tensor_basics.ipynb\" target=\"_parent\"><img src=\"https://colab.research.google.com/assets/colab-badge.svg\" alt=\"Open In Colab\"/></a>"
      ]
    },
    {
      "cell_type": "code",
      "execution_count": null,
      "metadata": {
        "id": "69C5KRHxYNje"
      },
      "outputs": [],
      "source": []
    },
    {
      "cell_type": "markdown",
      "source": [],
      "metadata": {
        "id": "ED1-WQz-YfnV"
      }
    },
    {
      "cell_type": "code",
      "source": [
        "2+2\n"
      ],
      "metadata": {
        "colab": {
          "base_uri": "https://localhost:8080/"
        },
        "id": "rzzBrCu1Yf8b",
        "outputId": "dded1905-c79d-44ef-c75d-d05c6bb1a95c"
      },
      "execution_count": null,
      "outputs": [
        {
          "output_type": "execute_result",
          "data": {
            "text/plain": [
              "4"
            ]
          },
          "metadata": {},
          "execution_count": 1
        }
      ]
    },
    {
      "cell_type": "code",
      "source": [
        "import torch"
      ],
      "metadata": {
        "id": "iDVS4lqXZOP9"
      },
      "execution_count": 3,
      "outputs": []
    },
    {
      "cell_type": "code",
      "source": [
        "x = torch.empty(4)\n",
        "print(x)\n",
        "x[1]"
      ],
      "metadata": {
        "id": "Q09wNlu6aprG",
        "outputId": "c17203b2-0b1d-4c56-f766-02d235afc191",
        "colab": {
          "base_uri": "https://localhost:8080/"
        }
      },
      "execution_count": 8,
      "outputs": [
        {
          "output_type": "stream",
          "name": "stdout",
          "text": [
            "tensor([1.2162e-19, 4.5321e-41, 1.3806e-19, 4.5321e-41])\n"
          ]
        },
        {
          "output_type": "execute_result",
          "data": {
            "text/plain": [
              "tensor(4.5321e-41)"
            ]
          },
          "metadata": {},
          "execution_count": 8
        }
      ]
    },
    {
      "cell_type": "code",
      "source": [
        "y = torch.rand(4,7)\n",
        "y"
      ],
      "metadata": {
        "id": "iVb_7vI3bgD4",
        "outputId": "5a02bee0-28b5-4f9f-c007-0062f4e5d729",
        "colab": {
          "base_uri": "https://localhost:8080/"
        }
      },
      "execution_count": 9,
      "outputs": [
        {
          "output_type": "execute_result",
          "data": {
            "text/plain": [
              "tensor([[0.6270, 0.5088, 0.2805, 0.5874, 0.5164, 0.2814, 0.9221],\n",
              "        [0.9852, 0.0020, 0.8127, 0.8997, 0.4446, 0.1554, 0.5855],\n",
              "        [0.8622, 0.5852, 0.7698, 0.3085, 0.3875, 0.1247, 0.6429],\n",
              "        [0.8706, 0.3325, 0.0559, 0.8853, 0.8888, 0.7528, 0.9639]])"
            ]
          },
          "metadata": {},
          "execution_count": 9
        }
      ]
    },
    {
      "cell_type": "markdown",
      "source": [
        "basic tensor operations"
      ],
      "metadata": {
        "id": "vYmbI6gzcDnt"
      }
    },
    {
      "cell_type": "code",
      "source": [
        "x = torch.rand(2,2)\n",
        "y = torch.rand(2,2)\n",
        "print('x :',x)\n",
        "print('y :',y)\n",
        "z = x+y\n",
        "# or z = torch.add(x,y)\n",
        "print('z :',z)"
      ],
      "metadata": {
        "id": "kOhdc74KcNCe",
        "outputId": "e533af50-1c2e-4091-890e-db80b4e3be60",
        "colab": {
          "base_uri": "https://localhost:8080/"
        }
      },
      "execution_count": 11,
      "outputs": [
        {
          "output_type": "stream",
          "name": "stdout",
          "text": [
            "x : tensor([[0.9492, 0.5825],\n",
            "        [0.0984, 0.7020]])\n",
            "y : tensor([[0.6474, 0.3904],\n",
            "        [0.8797, 0.0437]])\n",
            "z : tensor([[1.5966, 0.9730],\n",
            "        [0.9781, 0.7456]])\n"
          ]
        }
      ]
    },
    {
      "cell_type": "code",
      "source": [
        "# inpalce addition\n",
        "y.add_(x)\n"
      ],
      "metadata": {
        "id": "bRG7Gl2Zcx1j",
        "outputId": "8dae690b-b1eb-4272-bfe3-b805310881a6",
        "colab": {
          "base_uri": "https://localhost:8080/"
        }
      },
      "execution_count": 12,
      "outputs": [
        {
          "output_type": "execute_result",
          "data": {
            "text/plain": [
              "tensor([[1.5966, 0.9730],\n",
              "        [0.9781, 0.7456]])"
            ]
          },
          "metadata": {},
          "execution_count": 12
        }
      ]
    },
    {
      "cell_type": "code",
      "source": [
        "# division\n",
        "w = torch.div(x,y)\n",
        "w"
      ],
      "metadata": {
        "id": "y7W4DXuUc-7k",
        "outputId": "14a78590-66c7-487c-ed02-9545d667d5d1",
        "colab": {
          "base_uri": "https://localhost:8080/"
        }
      },
      "execution_count": 13,
      "outputs": [
        {
          "output_type": "execute_result",
          "data": {
            "text/plain": [
              "tensor([[0.5945, 0.5987],\n",
              "        [0.1006, 0.9414]])"
            ]
          },
          "metadata": {},
          "execution_count": 13
        }
      ]
    },
    {
      "cell_type": "code",
      "source": [
        "v = torch.rand(5,3)\n",
        "print(v)\n",
        "# print the first column of all the rows\n",
        "print(v[:,0])\n",
        "# row number 1 and all columns\n",
        "print(v[1,:])"
      ],
      "metadata": {
        "id": "aqYdc3BedVK3",
        "outputId": "1a61f673-7a63-4b7c-b974-7e5a680aff43",
        "colab": {
          "base_uri": "https://localhost:8080/"
        }
      },
      "execution_count": 15,
      "outputs": [
        {
          "output_type": "stream",
          "name": "stdout",
          "text": [
            "tensor([[0.0457, 0.5078, 0.0782],\n",
            "        [0.0894, 0.7223, 0.8220],\n",
            "        [0.9118, 0.8967, 0.9157],\n",
            "        [0.6809, 0.1939, 0.4559],\n",
            "        [0.1660, 0.3095, 0.3596]])\n",
            "tensor([0.0457, 0.0894, 0.9118, 0.6809, 0.1660])\n",
            "tensor([0.0894, 0.7223, 0.8220])\n"
          ]
        }
      ]
    },
    {
      "cell_type": "markdown",
      "source": [
        "Reshaping a tensor :"
      ],
      "metadata": {
        "id": "PLYKEFoQd86e"
      }
    },
    {
      "cell_type": "code",
      "source": [
        "f = torch.rand(4,4)\n",
        "print(f)\n",
        "g = f.view(2,8)\n",
        "print(g)"
      ],
      "metadata": {
        "id": "IaDpJTQ8eAA4",
        "outputId": "23433b09-2022-464f-f525-23e4574ffe8f",
        "colab": {
          "base_uri": "https://localhost:8080/"
        }
      },
      "execution_count": 19,
      "outputs": [
        {
          "output_type": "stream",
          "name": "stdout",
          "text": [
            "tensor([[0.3897, 0.9109, 0.0047, 0.6162],\n",
            "        [0.0677, 0.1856, 0.9010, 0.2336],\n",
            "        [0.2547, 0.2396, 0.8232, 0.7111],\n",
            "        [0.7232, 0.1320, 0.2743, 0.6157]])\n",
            "tensor([[0.3897, 0.9109, 0.0047, 0.6162, 0.0677, 0.1856, 0.9010, 0.2336],\n",
            "        [0.2547, 0.2396, 0.8232, 0.7111, 0.7232, 0.1320, 0.2743, 0.6157]])\n"
          ]
        }
      ]
    },
    {
      "cell_type": "code",
      "source": [
        "# convert from numpy to tensor and oposite\n",
        "import numpy as np\n",
        "a = torch.ones(5)\n",
        "print(a)\n",
        "b = a.numpy()\n",
        "print(b)\n",
        "print(type(b))\n",
        "\n"
      ],
      "metadata": {
        "id": "SZ14LcmUeZ8w",
        "outputId": "63737b13-32ad-4144-9c37-3434269a010e",
        "colab": {
          "base_uri": "https://localhost:8080/"
        }
      },
      "execution_count": 22,
      "outputs": [
        {
          "output_type": "stream",
          "name": "stdout",
          "text": [
            "tensor([1., 1., 1., 1., 1.])\n",
            "[1. 1. 1. 1. 1.]\n",
            "<class 'numpy.ndarray'>\n"
          ]
        }
      ]
    },
    {
      "cell_type": "code",
      "source": [
        "# from numpy to torch tensor\n",
        "\n",
        "c = np.ones(5)\n",
        "print(c)\n",
        "d = torch.from_numpy(c)\n",
        "print(d)\n"
      ],
      "metadata": {
        "id": "KkWH7pSzfb1B",
        "outputId": "47f94ea4-3778-424a-f4dc-f3dfce60d580",
        "colab": {
          "base_uri": "https://localhost:8080/"
        }
      },
      "execution_count": 23,
      "outputs": [
        {
          "output_type": "stream",
          "name": "stdout",
          "text": [
            "[1. 1. 1. 1. 1.]\n",
            "tensor([1., 1., 1., 1., 1.], dtype=torch.float64)\n"
          ]
        }
      ]
    }
  ]
}