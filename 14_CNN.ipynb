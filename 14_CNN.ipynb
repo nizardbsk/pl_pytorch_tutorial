{
  "nbformat": 4,
  "nbformat_minor": 0,
  "metadata": {
    "colab": {
      "provenance": [],
      "authorship_tag": "ABX9TyOkJ9hrWuZYzo/JwkY432Zg",
      "include_colab_link": true
    },
    "kernelspec": {
      "name": "python3",
      "display_name": "Python 3"
    },
    "language_info": {
      "name": "python"
    }
  },
  "cells": [
    {
      "cell_type": "markdown",
      "metadata": {
        "id": "view-in-github",
        "colab_type": "text"
      },
      "source": [
        "<a href=\"https://colab.research.google.com/github/nizardbsk/pl_pytorch_tutorial/blob/main/14_CNN.ipynb\" target=\"_parent\"><img src=\"https://colab.research.google.com/assets/colab-badge.svg\" alt=\"Open In Colab\"/></a>"
      ]
    },
    {
      "cell_type": "code",
      "execution_count": 1,
      "metadata": {
        "id": "MZL8eydP5p8W"
      },
      "outputs": [],
      "source": [
        "import torch\n",
        "import torch.nn as nn\n",
        "import torch.nn.functional as F\n",
        "import torchvision\n",
        "import torchvision.transforms as transforms\n",
        "import matplotlib.pyplot as plt\n",
        "import numpy as np"
      ]
    },
    {
      "cell_type": "code",
      "source": [
        "num_epochs = 4\n",
        "batch_size = 4\n",
        "lr=0.001"
      ],
      "metadata": {
        "id": "v4-pUziB6xW6"
      },
      "execution_count": 2,
      "outputs": []
    },
    {
      "cell_type": "code",
      "source": [
        "transform = transforms.Compose([transforms.ToTensor(),transforms.Normalize((0.5,0.5,0.5),(0.5,0.5,0.5))])\n",
        "\n",
        "train_dataset = torchvision.datasets.CIFAR10(root='./data',train=True,transform=transforms.ToTensor(),download=True)\n",
        "test_dataset = torchvision.datasets.CIFAR10(root='./data',train=False,transform=transforms.ToTensor(),download=True)\n",
        "\n",
        "train_loader = torch.utils.data.DataLoader(dataset=train_dataset,batch_size=batch_size,shuffle=True)\n",
        "test_loader = torch.utils.data.DataLoader(dataset=test_dataset,batch_size=batch_size,shuffle=False)\n",
        "\n",
        "classes = ('plane','car','bird','cat','deer','dog','frog','horse','ship','truck')\n"
      ],
      "metadata": {
        "colab": {
          "base_uri": "https://localhost:8080/"
        },
        "id": "Xx-642WZ69f5",
        "outputId": "aaf44b27-d7bf-4b95-e5ea-7a005ecf6428"
      },
      "execution_count": 4,
      "outputs": [
        {
          "output_type": "stream",
          "name": "stdout",
          "text": [
            "Files already downloaded and verified\n",
            "Files already downloaded and verified\n"
          ]
        }
      ]
    },
    {
      "cell_type": "code",
      "source": [
        "def imshow(img):\n",
        "  img = img/ 2+ 0.5\n",
        "  npimg = img.numpy()\n",
        "  plt.imshow(np.transpose(npimg,(1,2,0)))\n",
        "  plt.show()"
      ],
      "metadata": {
        "id": "ZVGnheknBuWe"
      },
      "execution_count": 5,
      "outputs": []
    },
    {
      "cell_type": "code",
      "source": [
        "\n",
        "# implement the conv net\n",
        "class ConvNet(nn.Module):\n",
        "  def __init__(self):\n",
        "    super(ConvNet,self).__init__()\n",
        "    self.conv1 = nn.Conv2d(3,6,5)\n",
        "    self.pool = nn.MaxPool2d(2,2)\n",
        "    self.conv2 = nn.Conv2d(6,16,5)\n",
        "    self.fc1 = nn.Linear(16*5*5,120)\n",
        "    self.fc2 = nn.Linear(120,84)\n",
        "    self.fc3 = nn.Linear(84,10)\n",
        "\n",
        "  def forward(self,x):\n",
        "    x = self.pool(F.relu(self.conv1(x)))\n",
        "    x=  self.pool(F.relu(self.conv2(x)))\n",
        "    x= x.view(-1,16*5*5)\n",
        "    x = F.relu(self.fc1(x))\n",
        "    x = F.relu(self.fc2(x))\n",
        "    x = self.fc3(x)\n",
        "    return x"
      ],
      "metadata": {
        "id": "uupKT4mr7_9I"
      },
      "execution_count": 14,
      "outputs": []
    },
    {
      "cell_type": "code",
      "source": [
        "model = ConvNet()\n",
        "criterion = nn.CrossEntropyLoss()\n",
        "optimizer = torch.optim.SGD(model.parameters(),lr=lr)"
      ],
      "metadata": {
        "id": "XeniEdTz8-Xw"
      },
      "execution_count": 15,
      "outputs": []
    },
    {
      "cell_type": "code",
      "source": [
        "n_total_steps = len(train_loader)\n",
        "for epoch in range(num_epochs):\n",
        "  for i,(images,labels) in enumerate(train_loader):\n",
        "    # origin shape : [4,3,32,32] = 4,3,1024\n",
        "    # input_layer : 3 input channels, 6 output channels, 5 kernel size\n",
        "\n",
        "    # forward pass\n",
        "    outputs = model(images)\n",
        "    loss = criterion(outputs,labels)\n",
        "\n",
        "    # backward and optimize\n",
        "    optimizer.zero_grad()\n",
        "    loss.backward()\n",
        "    optimizer.step()\n",
        "\n",
        "    if (i+1) % 2000 ==0:\n",
        "      print(f'epoch {epoch+1}/{num_epochs}, step {i+1}/{n_total_steps}, loss {loss.item():.4f}')\n",
        "print('finish training')"
      ],
      "metadata": {
        "colab": {
          "base_uri": "https://localhost:8080/"
        },
        "id": "ghfM7oUe9N3f",
        "outputId": "b7ac154b-20d9-4e6f-e193-d98a6d3d4fbb"
      },
      "execution_count": 16,
      "outputs": [
        {
          "output_type": "stream",
          "name": "stdout",
          "text": [
            "epoch 1/4, step 2000/12500, loss 2.2836\n",
            "epoch 1/4, step 4000/12500, loss 2.2810\n",
            "epoch 1/4, step 6000/12500, loss 2.3101\n",
            "epoch 1/4, step 8000/12500, loss 2.3168\n",
            "epoch 1/4, step 10000/12500, loss 2.2950\n",
            "epoch 1/4, step 12000/12500, loss 2.2898\n",
            "epoch 2/4, step 2000/12500, loss 2.3072\n",
            "epoch 2/4, step 4000/12500, loss 2.2911\n",
            "epoch 2/4, step 6000/12500, loss 2.3114\n",
            "epoch 2/4, step 8000/12500, loss 2.2984\n",
            "epoch 2/4, step 10000/12500, loss 2.2756\n",
            "epoch 2/4, step 12000/12500, loss 2.2192\n",
            "epoch 3/4, step 2000/12500, loss 2.3903\n",
            "epoch 3/4, step 4000/12500, loss 1.7417\n",
            "epoch 3/4, step 6000/12500, loss 2.3804\n",
            "epoch 3/4, step 8000/12500, loss 2.1308\n",
            "epoch 3/4, step 10000/12500, loss 1.5493\n",
            "epoch 3/4, step 12000/12500, loss 3.6171\n",
            "epoch 4/4, step 2000/12500, loss 1.7016\n",
            "epoch 4/4, step 4000/12500, loss 1.9594\n",
            "epoch 4/4, step 6000/12500, loss 1.7694\n",
            "epoch 4/4, step 8000/12500, loss 1.1113\n",
            "epoch 4/4, step 10000/12500, loss 1.7820\n",
            "epoch 4/4, step 12000/12500, loss 1.8104\n",
            "finish training\n"
          ]
        }
      ]
    },
    {
      "cell_type": "code",
      "source": [
        "with torch.no_grad() :\n",
        "  n_correct = 0\n",
        "  n_samples = 0\n",
        "  n_class_correct = [ 0 for i in range(10)]\n",
        "  n_class_samples = [ 0 for i in range(10)]\n",
        "  for images,labels in test_loader :\n",
        "    outputs = model(images)\n",
        "    _,predicted = torch.max(outputs,1)\n",
        "    n_samples += labels.size(0)\n",
        "    n_correct += (predicted == labels).sum().item()\n",
        "\n",
        "    for i in range(batch_size):\n",
        "      label = labels[i]\n",
        "      pred = predicted[i]\n",
        "      if(label == pred):\n",
        "        n_class_correct[label] +=1\n",
        "      n_class_samples[label] +=1\n",
        "  acc = 100.0 * n_correct /n_samples\n",
        "  print(f' acc {acc}%')\n",
        "\n",
        "  for i in range(10):\n",
        "    acc = 100.0 * n_class_correct[i] / n_class_samples[i]\n",
        "    print(f'Accuracy of {classes[i]}: {acc} %')"
      ],
      "metadata": {
        "colab": {
          "base_uri": "https://localhost:8080/"
        },
        "id": "kvMCAp9w-kcR",
        "outputId": "520102db-d7e7-4f6b-a0e8-6f20b2729ec0"
      },
      "execution_count": 20,
      "outputs": [
        {
          "output_type": "stream",
          "name": "stdout",
          "text": [
            " acc 38.08%\n",
            "Accuracy of plane: 38.2 %\n",
            "Accuracy of car: 64.2 %\n",
            "Accuracy of bird: 3.7 %\n",
            "Accuracy of cat: 8.0 %\n",
            "Accuracy of deer: 31.4 %\n",
            "Accuracy of dog: 39.4 %\n",
            "Accuracy of frog: 63.7 %\n",
            "Accuracy of horse: 46.0 %\n",
            "Accuracy of ship: 46.0 %\n",
            "Accuracy of truck: 40.2 %\n"
          ]
        }
      ]
    }
  ]
}