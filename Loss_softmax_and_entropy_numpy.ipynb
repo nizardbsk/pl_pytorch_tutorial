{
  "nbformat": 4,
  "nbformat_minor": 0,
  "metadata": {
    "colab": {
      "provenance": [],
      "authorship_tag": "ABX9TyOM4cgrWyBlvSCO04ufhnWP",
      "include_colab_link": true
    },
    "kernelspec": {
      "name": "python3",
      "display_name": "Python 3"
    },
    "language_info": {
      "name": "python"
    }
  },
  "cells": [
    {
      "cell_type": "markdown",
      "metadata": {
        "id": "view-in-github",
        "colab_type": "text"
      },
      "source": [
        "<a href=\"https://colab.research.google.com/github/nizardbsk/pl_pytorch_tutorial/blob/main/Loss_softmax_and_entropy_numpy.ipynb\" target=\"_parent\"><img src=\"https://colab.research.google.com/assets/colab-badge.svg\" alt=\"Open In Colab\"/></a>"
      ]
    },
    {
      "cell_type": "markdown",
      "source": [
        "sotmax : S(yi)=e^yi/sum(e^yi)"
      ],
      "metadata": {
        "id": "IfqxsgS3JTby"
      }
    },
    {
      "cell_type": "code",
      "execution_count": 2,
      "metadata": {
        "id": "o9KNM5OVJO75"
      },
      "outputs": [],
      "source": [
        "import torch\n",
        "import torch.nn as nn\n",
        "import numpy as np"
      ]
    },
    {
      "cell_type": "code",
      "source": [
        "def softmax(x):\n",
        "  return np.exp(x)/np.sum(np.exp(x),axis=0)\n",
        "\n",
        "x= np.array([2.0,1.0,0.1])\n",
        "outputs = softmax(x)\n",
        "print('softmax numpy : ',outputs)"
      ],
      "metadata": {
        "colab": {
          "base_uri": "https://localhost:8080/"
        },
        "id": "sm5xyBFgJ2Ri",
        "outputId": "ce988f39-1a13-4ee8-b59f-ded976cd2d2b"
      },
      "execution_count": 3,
      "outputs": [
        {
          "output_type": "stream",
          "name": "stdout",
          "text": [
            "softmax numpy :  [0.65900114 0.24243297 0.09856589]\n"
          ]
        }
      ]
    },
    {
      "cell_type": "code",
      "source": [
        "#in pytorch\n",
        "x=torch.tensor([2.0,1.0,0.1])\n",
        "outputs2 = torch.softmax(x,dim=0)\n",
        "print('softmax numpy : ',outputs2)"
      ],
      "metadata": {
        "id": "TRNsQVpqKlsa",
        "outputId": "7a900162-8080-48ae-a51e-bdc03740c289",
        "colab": {
          "base_uri": "https://localhost:8080/"
        }
      },
      "execution_count": 4,
      "outputs": [
        {
          "output_type": "stream",
          "name": "stdout",
          "text": [
            "softmax numpy :  tensor([0.6590, 0.2424, 0.0986])\n"
          ]
        }
      ]
    },
    {
      "cell_type": "markdown",
      "source": [
        "Cross-Entropy:\n",
        "D(y',y)=-1/N * sum(yi * log(y'i))"
      ],
      "metadata": {
        "id": "zMK3G4_ALMfE"
      }
    },
    {
      "cell_type": "code",
      "source": [
        "def cross_entropy(actual,predicted):\n",
        "  loss = -np.sum(actual * np.log(predicted))\n",
        "  return loss\n",
        "\n",
        "Y = np.array([1,0,0])\n",
        "\n",
        "Y_pred_good = np.array([0.7,0.2,0.1])\n",
        "Y_pred_bad = np.array([0.1,0.3,0.6])\n",
        "l1 = cross_entropy(Y,Y_pred_good)\n",
        "l2 = cross_entropy(Y,Y_pred_bad)\n",
        "print(f'loss1 entropy : {l1:.4f}')\n",
        "print(f'loss2 entropy : {l2:.4f}')"
      ],
      "metadata": {
        "id": "jHGdSeyWLg7W",
        "outputId": "8634c975-c99d-4861-a854-7ccdb7640af6",
        "colab": {
          "base_uri": "https://localhost:8080/"
        }
      },
      "execution_count": 5,
      "outputs": [
        {
          "output_type": "stream",
          "name": "stdout",
          "text": [
            "loss1 entropy : 0.3567\n",
            "loss2 entropy : 2.3026\n"
          ]
        }
      ]
    },
    {
      "cell_type": "code",
      "source": [
        "# in pytorch\n"
      ],
      "metadata": {
        "id": "oev3h78jNBPy"
      },
      "execution_count": null,
      "outputs": []
    }
  ]
}