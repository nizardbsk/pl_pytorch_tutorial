{
  "nbformat": 4,
  "nbformat_minor": 0,
  "metadata": {
    "colab": {
      "provenance": [],
      "authorship_tag": "ABX9TyN4DWgVxG4k57SCezLZVhwq",
      "include_colab_link": true
    },
    "kernelspec": {
      "name": "python3",
      "display_name": "Python 3"
    },
    "language_info": {
      "name": "python"
    }
  },
  "cells": [
    {
      "cell_type": "markdown",
      "metadata": {
        "id": "view-in-github",
        "colab_type": "text"
      },
      "source": [
        "<a href=\"https://colab.research.google.com/github/nizardbsk/pl_pytorch_tutorial/blob/main/Dataset_Dataloader_Test.ipynb\" target=\"_parent\"><img src=\"https://colab.research.google.com/assets/colab-badge.svg\" alt=\"Open In Colab\"/></a>"
      ]
    },
    {
      "cell_type": "code",
      "execution_count": 1,
      "metadata": {
        "id": "jcySiDJqisjl"
      },
      "outputs": [],
      "source": [
        "import torch\n",
        "import torchvision\n",
        "from torch.utils.data import Dataset,DataLoader\n",
        "import numpy as np\n",
        "import math\n"
      ]
    },
    {
      "cell_type": "code",
      "source": [
        "class WineDataset(Dataset):\n",
        "  def __init__(self):\n",
        "    # data loading\n",
        "    xy = np.loadtxt('wine.csv',delimiter=',',dtype=np.float32,skiprows=1)\n",
        "    self.x = torch.from_numpy(xy[:, 1:])\n",
        "    self.y = torch.from_numpy(xy[:, [0]])\n",
        "    self.n_samples = xy.shape[0]\n",
        "\n",
        "  def __getitem__(self,index):\n",
        "    # dataset[0]\n",
        "    return self.x[index], self.y[index]\n",
        "\n",
        "  def __len__(self):\n",
        "    # len(dataset)\n",
        "    return self.n_samples"
      ],
      "metadata": {
        "id": "QkAmgjOFi0MQ"
      },
      "execution_count": 2,
      "outputs": []
    },
    {
      "cell_type": "code",
      "source": [
        "from google.colab import files\n",
        "uploaded = files.upload()"
      ],
      "metadata": {
        "colab": {
          "base_uri": "https://localhost:8080/",
          "height": 73
        },
        "id": "EdPpirBNi5gG",
        "outputId": "d5121956-7c53-462f-f57a-c8c797751c4a"
      },
      "execution_count": 3,
      "outputs": [
        {
          "output_type": "display_data",
          "data": {
            "text/plain": [
              "<IPython.core.display.HTML object>"
            ],
            "text/html": [
              "\n",
              "     <input type=\"file\" id=\"files-db4dd655-43cc-4d7d-a79e-0b200fe70605\" name=\"files[]\" multiple disabled\n",
              "        style=\"border:none\" />\n",
              "     <output id=\"result-db4dd655-43cc-4d7d-a79e-0b200fe70605\">\n",
              "      Upload widget is only available when the cell has been executed in the\n",
              "      current browser session. Please rerun this cell to enable.\n",
              "      </output>\n",
              "      <script>// Copyright 2017 Google LLC\n",
              "//\n",
              "// Licensed under the Apache License, Version 2.0 (the \"License\");\n",
              "// you may not use this file except in compliance with the License.\n",
              "// You may obtain a copy of the License at\n",
              "//\n",
              "//      http://www.apache.org/licenses/LICENSE-2.0\n",
              "//\n",
              "// Unless required by applicable law or agreed to in writing, software\n",
              "// distributed under the License is distributed on an \"AS IS\" BASIS,\n",
              "// WITHOUT WARRANTIES OR CONDITIONS OF ANY KIND, either express or implied.\n",
              "// See the License for the specific language governing permissions and\n",
              "// limitations under the License.\n",
              "\n",
              "/**\n",
              " * @fileoverview Helpers for google.colab Python module.\n",
              " */\n",
              "(function(scope) {\n",
              "function span(text, styleAttributes = {}) {\n",
              "  const element = document.createElement('span');\n",
              "  element.textContent = text;\n",
              "  for (const key of Object.keys(styleAttributes)) {\n",
              "    element.style[key] = styleAttributes[key];\n",
              "  }\n",
              "  return element;\n",
              "}\n",
              "\n",
              "// Max number of bytes which will be uploaded at a time.\n",
              "const MAX_PAYLOAD_SIZE = 100 * 1024;\n",
              "\n",
              "function _uploadFiles(inputId, outputId) {\n",
              "  const steps = uploadFilesStep(inputId, outputId);\n",
              "  const outputElement = document.getElementById(outputId);\n",
              "  // Cache steps on the outputElement to make it available for the next call\n",
              "  // to uploadFilesContinue from Python.\n",
              "  outputElement.steps = steps;\n",
              "\n",
              "  return _uploadFilesContinue(outputId);\n",
              "}\n",
              "\n",
              "// This is roughly an async generator (not supported in the browser yet),\n",
              "// where there are multiple asynchronous steps and the Python side is going\n",
              "// to poll for completion of each step.\n",
              "// This uses a Promise to block the python side on completion of each step,\n",
              "// then passes the result of the previous step as the input to the next step.\n",
              "function _uploadFilesContinue(outputId) {\n",
              "  const outputElement = document.getElementById(outputId);\n",
              "  const steps = outputElement.steps;\n",
              "\n",
              "  const next = steps.next(outputElement.lastPromiseValue);\n",
              "  return Promise.resolve(next.value.promise).then((value) => {\n",
              "    // Cache the last promise value to make it available to the next\n",
              "    // step of the generator.\n",
              "    outputElement.lastPromiseValue = value;\n",
              "    return next.value.response;\n",
              "  });\n",
              "}\n",
              "\n",
              "/**\n",
              " * Generator function which is called between each async step of the upload\n",
              " * process.\n",
              " * @param {string} inputId Element ID of the input file picker element.\n",
              " * @param {string} outputId Element ID of the output display.\n",
              " * @return {!Iterable<!Object>} Iterable of next steps.\n",
              " */\n",
              "function* uploadFilesStep(inputId, outputId) {\n",
              "  const inputElement = document.getElementById(inputId);\n",
              "  inputElement.disabled = false;\n",
              "\n",
              "  const outputElement = document.getElementById(outputId);\n",
              "  outputElement.innerHTML = '';\n",
              "\n",
              "  const pickedPromise = new Promise((resolve) => {\n",
              "    inputElement.addEventListener('change', (e) => {\n",
              "      resolve(e.target.files);\n",
              "    });\n",
              "  });\n",
              "\n",
              "  const cancel = document.createElement('button');\n",
              "  inputElement.parentElement.appendChild(cancel);\n",
              "  cancel.textContent = 'Cancel upload';\n",
              "  const cancelPromise = new Promise((resolve) => {\n",
              "    cancel.onclick = () => {\n",
              "      resolve(null);\n",
              "    };\n",
              "  });\n",
              "\n",
              "  // Wait for the user to pick the files.\n",
              "  const files = yield {\n",
              "    promise: Promise.race([pickedPromise, cancelPromise]),\n",
              "    response: {\n",
              "      action: 'starting',\n",
              "    }\n",
              "  };\n",
              "\n",
              "  cancel.remove();\n",
              "\n",
              "  // Disable the input element since further picks are not allowed.\n",
              "  inputElement.disabled = true;\n",
              "\n",
              "  if (!files) {\n",
              "    return {\n",
              "      response: {\n",
              "        action: 'complete',\n",
              "      }\n",
              "    };\n",
              "  }\n",
              "\n",
              "  for (const file of files) {\n",
              "    const li = document.createElement('li');\n",
              "    li.append(span(file.name, {fontWeight: 'bold'}));\n",
              "    li.append(span(\n",
              "        `(${file.type || 'n/a'}) - ${file.size} bytes, ` +\n",
              "        `last modified: ${\n",
              "            file.lastModifiedDate ? file.lastModifiedDate.toLocaleDateString() :\n",
              "                                    'n/a'} - `));\n",
              "    const percent = span('0% done');\n",
              "    li.appendChild(percent);\n",
              "\n",
              "    outputElement.appendChild(li);\n",
              "\n",
              "    const fileDataPromise = new Promise((resolve) => {\n",
              "      const reader = new FileReader();\n",
              "      reader.onload = (e) => {\n",
              "        resolve(e.target.result);\n",
              "      };\n",
              "      reader.readAsArrayBuffer(file);\n",
              "    });\n",
              "    // Wait for the data to be ready.\n",
              "    let fileData = yield {\n",
              "      promise: fileDataPromise,\n",
              "      response: {\n",
              "        action: 'continue',\n",
              "      }\n",
              "    };\n",
              "\n",
              "    // Use a chunked sending to avoid message size limits. See b/62115660.\n",
              "    let position = 0;\n",
              "    do {\n",
              "      const length = Math.min(fileData.byteLength - position, MAX_PAYLOAD_SIZE);\n",
              "      const chunk = new Uint8Array(fileData, position, length);\n",
              "      position += length;\n",
              "\n",
              "      const base64 = btoa(String.fromCharCode.apply(null, chunk));\n",
              "      yield {\n",
              "        response: {\n",
              "          action: 'append',\n",
              "          file: file.name,\n",
              "          data: base64,\n",
              "        },\n",
              "      };\n",
              "\n",
              "      let percentDone = fileData.byteLength === 0 ?\n",
              "          100 :\n",
              "          Math.round((position / fileData.byteLength) * 100);\n",
              "      percent.textContent = `${percentDone}% done`;\n",
              "\n",
              "    } while (position < fileData.byteLength);\n",
              "  }\n",
              "\n",
              "  // All done.\n",
              "  yield {\n",
              "    response: {\n",
              "      action: 'complete',\n",
              "    }\n",
              "  };\n",
              "}\n",
              "\n",
              "scope.google = scope.google || {};\n",
              "scope.google.colab = scope.google.colab || {};\n",
              "scope.google.colab._files = {\n",
              "  _uploadFiles,\n",
              "  _uploadFilesContinue,\n",
              "};\n",
              "})(self);\n",
              "</script> "
            ]
          },
          "metadata": {}
        },
        {
          "output_type": "stream",
          "name": "stdout",
          "text": [
            "Saving wine.csv to wine.csv\n"
          ]
        }
      ]
    },
    {
      "cell_type": "code",
      "source": [
        "dataset = WineDataset()\n",
        "first_data = dataset[0]\n",
        "features,labels = first_data\n",
        "print(features,labels)"
      ],
      "metadata": {
        "colab": {
          "base_uri": "https://localhost:8080/"
        },
        "id": "vByEpi5YjPOa",
        "outputId": "36b281df-22da-4d59-9c82-4c89dd0552a2"
      },
      "execution_count": 4,
      "outputs": [
        {
          "output_type": "stream",
          "name": "stdout",
          "text": [
            "tensor([1.4230e+01, 1.7100e+00, 2.4300e+00, 1.5600e+01, 1.2700e+02, 2.8000e+00,\n",
            "        3.0600e+00, 2.8000e-01, 2.2900e+00, 5.6400e+00, 1.0400e+00, 3.9200e+00,\n",
            "        1.0650e+03]) tensor([1.])\n"
          ]
        }
      ]
    },
    {
      "cell_type": "code",
      "source": [
        "dataloader = DataLoader(dataset=dataset, batch_size=4, shuffle=True,num_workers=2)\n",
        "\n",
        "dataiter = iter(dataloader)\n",
        "data = next(dataiter)\n",
        "features,labels = data\n",
        "print(features,labels)"
      ],
      "metadata": {
        "colab": {
          "base_uri": "https://localhost:8080/"
        },
        "id": "ULDsCheBjhRg",
        "outputId": "40f8b7a3-deee-4a2a-fe33-b164f2fc596c"
      },
      "execution_count": 5,
      "outputs": [
        {
          "output_type": "stream",
          "name": "stdout",
          "text": [
            "tensor([[1.2850e+01, 1.6000e+00, 2.5200e+00, 1.7800e+01, 9.5000e+01, 2.4800e+00,\n",
            "         2.3700e+00, 2.6000e-01, 1.4600e+00, 3.9300e+00, 1.0900e+00, 3.6300e+00,\n",
            "         1.0150e+03],\n",
            "        [1.3030e+01, 9.0000e-01, 1.7100e+00, 1.6000e+01, 8.6000e+01, 1.9500e+00,\n",
            "         2.0300e+00, 2.4000e-01, 1.4600e+00, 4.6000e+00, 1.1900e+00, 2.4800e+00,\n",
            "         3.9200e+02],\n",
            "        [1.1760e+01, 2.6800e+00, 2.9200e+00, 2.0000e+01, 1.0300e+02, 1.7500e+00,\n",
            "         2.0300e+00, 6.0000e-01, 1.0500e+00, 3.8000e+00, 1.2300e+00, 2.5000e+00,\n",
            "         6.0700e+02],\n",
            "        [1.3830e+01, 1.6500e+00, 2.6000e+00, 1.7200e+01, 9.4000e+01, 2.4500e+00,\n",
            "         2.9900e+00, 2.2000e-01, 2.2900e+00, 5.6000e+00, 1.2400e+00, 3.3700e+00,\n",
            "         1.2650e+03]]) tensor([[1.],\n",
            "        [2.],\n",
            "        [2.],\n",
            "        [1.]])\n"
          ]
        }
      ]
    },
    {
      "cell_type": "code",
      "source": [
        "dataloader2 = DataLoader(dataset=dataset, batch_size=7, shuffle=True,num_workers=2)\n",
        "\n",
        "dataiter2 = iter(dataloader2)\n",
        "data2 = next(dataiter2)\n",
        "features2,labels2 = data2\n",
        "print(features2,labels2)"
      ],
      "metadata": {
        "colab": {
          "base_uri": "https://localhost:8080/"
        },
        "id": "sCMEKR35jkuX",
        "outputId": "40a56242-edcd-4566-e75b-820ef5772331"
      },
      "execution_count": 7,
      "outputs": [
        {
          "output_type": "stream",
          "name": "stdout",
          "text": [
            "tensor([[1.2850e+01, 1.6000e+00, 2.5200e+00, 1.7800e+01, 9.5000e+01, 2.4800e+00,\n",
            "         2.3700e+00, 2.6000e-01, 1.4600e+00, 3.9300e+00, 1.0900e+00, 3.6300e+00,\n",
            "         1.0150e+03],\n",
            "        [1.3160e+01, 2.3600e+00, 2.6700e+00, 1.8600e+01, 1.0100e+02, 2.8000e+00,\n",
            "         3.2400e+00, 3.0000e-01, 2.8100e+00, 5.6800e+00, 1.0300e+00, 3.1700e+00,\n",
            "         1.1850e+03],\n",
            "        [1.2720e+01, 1.8100e+00, 2.2000e+00, 1.8800e+01, 8.6000e+01, 2.2000e+00,\n",
            "         2.5300e+00, 2.6000e-01, 1.7700e+00, 3.9000e+00, 1.1600e+00, 3.1400e+00,\n",
            "         7.1400e+02],\n",
            "        [1.3300e+01, 1.7200e+00, 2.1400e+00, 1.7000e+01, 9.4000e+01, 2.4000e+00,\n",
            "         2.1900e+00, 2.7000e-01, 1.3500e+00, 3.9500e+00, 1.0200e+00, 2.7700e+00,\n",
            "         1.2850e+03],\n",
            "        [1.2170e+01, 1.4500e+00, 2.5300e+00, 1.9000e+01, 1.0400e+02, 1.8900e+00,\n",
            "         1.7500e+00, 4.5000e-01, 1.0300e+00, 2.9500e+00, 1.4500e+00, 2.2300e+00,\n",
            "         3.5500e+02],\n",
            "        [1.3170e+01, 2.5900e+00, 2.3700e+00, 2.0000e+01, 1.2000e+02, 1.6500e+00,\n",
            "         6.8000e-01, 5.3000e-01, 1.4600e+00, 9.3000e+00, 6.0000e-01, 1.6200e+00,\n",
            "         8.4000e+02],\n",
            "        [1.1660e+01, 1.8800e+00, 1.9200e+00, 1.6000e+01, 9.7000e+01, 1.6100e+00,\n",
            "         1.5700e+00, 3.4000e-01, 1.1500e+00, 3.8000e+00, 1.2300e+00, 2.1400e+00,\n",
            "         4.2800e+02]]) tensor([[1.],\n",
            "        [1.],\n",
            "        [2.],\n",
            "        [1.],\n",
            "        [2.],\n",
            "        [3.],\n",
            "        [2.]])\n"
          ]
        }
      ]
    },
    {
      "cell_type": "code",
      "source": [
        "print(dataset[177])\n",
        "print(len(dataloader))\n",
        "print(len(dataloader2))"
      ],
      "metadata": {
        "colab": {
          "base_uri": "https://localhost:8080/"
        },
        "id": "cm64tfUij3AB",
        "outputId": "45db2f55-2532-4373-f2fe-ac24cb37b6f6"
      },
      "execution_count": 18,
      "outputs": [
        {
          "output_type": "stream",
          "name": "stdout",
          "text": [
            "(tensor([ 14.1300,   4.1000,   2.7400,  24.5000,  96.0000,   2.0500,   0.7600,\n",
            "          0.5600,   1.3500,   9.2000,   0.6100,   1.6000, 560.0000]), tensor([3.]))\n",
            "45\n",
            "26\n"
          ]
        }
      ]
    },
    {
      "cell_type": "code",
      "source": [
        "# Training loop\n",
        "n_epochs = 2\n",
        "total_samples = len(dataset)\n",
        "n_iters = math.ceil(total_samples/4)\n",
        "print(total_samples,n_iters)"
      ],
      "metadata": {
        "colab": {
          "base_uri": "https://localhost:8080/"
        },
        "id": "1t9Rm-UJmLwp",
        "outputId": "5d48567e-e75f-49eb-872b-90a76b1c9eaa"
      },
      "execution_count": 19,
      "outputs": [
        {
          "output_type": "stream",
          "name": "stdout",
          "text": [
            "178 45\n"
          ]
        }
      ]
    },
    {
      "cell_type": "markdown",
      "source": [
        "number of iterations is the lenght of dataloader,and it is repeated in the n_epochs,so the full iterations is : n_epochs * n_iters"
      ],
      "metadata": {
        "id": "8HXPBSVsmbHQ"
      }
    },
    {
      "cell_type": "code",
      "source": [
        "for epoch in range(n_epochs):\n",
        "  for i,(inputs,labels) in enumerate(dataloader):\n",
        "    if (i%5)==0:\n",
        "      print(f'epoch : {epoch+1}/{n_epochs}, iter : {i+1}:{n_iters}, inputs {inputs.shape}')\n",
        "    if i==22:\n",
        "      print(inputs)"
      ],
      "metadata": {
        "colab": {
          "base_uri": "https://localhost:8080/"
        },
        "id": "7CCm2H8zmhC1",
        "outputId": "2500cdb3-424f-4a73-d16b-aa1b7247dcca"
      },
      "execution_count": 29,
      "outputs": [
        {
          "output_type": "stream",
          "name": "stdout",
          "text": [
            "epoch : 1/2, iter : 1:45, inputs torch.Size([4, 13])\n",
            "epoch : 1/2, iter : 6:45, inputs torch.Size([4, 13])\n",
            "epoch : 1/2, iter : 11:45, inputs torch.Size([4, 13])\n",
            "epoch : 1/2, iter : 16:45, inputs torch.Size([4, 13])\n",
            "epoch : 1/2, iter : 21:45, inputs torch.Size([4, 13])\n",
            "tensor([[1.3710e+01, 1.8600e+00, 2.3600e+00, 1.6600e+01, 1.0100e+02, 2.6100e+00,\n",
            "         2.8800e+00, 2.7000e-01, 1.6900e+00, 3.8000e+00, 1.1100e+00, 4.0000e+00,\n",
            "         1.0350e+03],\n",
            "        [1.3770e+01, 1.9000e+00, 2.6800e+00, 1.7100e+01, 1.1500e+02, 3.0000e+00,\n",
            "         2.7900e+00, 3.9000e-01, 1.6800e+00, 6.3000e+00, 1.1300e+00, 2.9300e+00,\n",
            "         1.3750e+03],\n",
            "        [1.1820e+01, 1.7200e+00, 1.8800e+00, 1.9500e+01, 8.6000e+01, 2.5000e+00,\n",
            "         1.6400e+00, 3.7000e-01, 1.4200e+00, 2.0600e+00, 9.4000e-01, 2.4400e+00,\n",
            "         4.1500e+02],\n",
            "        [1.2850e+01, 1.6000e+00, 2.5200e+00, 1.7800e+01, 9.5000e+01, 2.4800e+00,\n",
            "         2.3700e+00, 2.6000e-01, 1.4600e+00, 3.9300e+00, 1.0900e+00, 3.6300e+00,\n",
            "         1.0150e+03]])\n",
            "epoch : 1/2, iter : 26:45, inputs torch.Size([4, 13])\n",
            "epoch : 1/2, iter : 31:45, inputs torch.Size([4, 13])\n",
            "epoch : 1/2, iter : 36:45, inputs torch.Size([4, 13])\n",
            "epoch : 1/2, iter : 41:45, inputs torch.Size([4, 13])\n",
            "epoch : 2/2, iter : 1:45, inputs torch.Size([4, 13])\n",
            "epoch : 2/2, iter : 6:45, inputs torch.Size([4, 13])\n",
            "epoch : 2/2, iter : 11:45, inputs torch.Size([4, 13])\n",
            "epoch : 2/2, iter : 16:45, inputs torch.Size([4, 13])\n",
            "epoch : 2/2, iter : 21:45, inputs torch.Size([4, 13])\n",
            "tensor([[1.3400e+01, 4.6000e+00, 2.8600e+00, 2.5000e+01, 1.1200e+02, 1.9800e+00,\n",
            "         9.6000e-01, 2.7000e-01, 1.1100e+00, 8.5000e+00, 6.7000e-01, 1.9200e+00,\n",
            "         6.3000e+02],\n",
            "        [1.2210e+01, 1.1900e+00, 1.7500e+00, 1.6800e+01, 1.5100e+02, 1.8500e+00,\n",
            "         1.2800e+00, 1.4000e-01, 2.5000e+00, 2.8500e+00, 1.2800e+00, 3.0700e+00,\n",
            "         7.1800e+02],\n",
            "        [1.1560e+01, 2.0500e+00, 3.2300e+00, 2.8500e+01, 1.1900e+02, 3.1800e+00,\n",
            "         5.0800e+00, 4.7000e-01, 1.8700e+00, 6.0000e+00, 9.3000e-01, 3.6900e+00,\n",
            "         4.6500e+02],\n",
            "        [1.3480e+01, 1.8100e+00, 2.4100e+00, 2.0500e+01, 1.0000e+02, 2.7000e+00,\n",
            "         2.9800e+00, 2.6000e-01, 1.8600e+00, 5.1000e+00, 1.0400e+00, 3.4700e+00,\n",
            "         9.2000e+02]])\n",
            "epoch : 2/2, iter : 26:45, inputs torch.Size([4, 13])\n",
            "epoch : 2/2, iter : 31:45, inputs torch.Size([4, 13])\n",
            "epoch : 2/2, iter : 36:45, inputs torch.Size([4, 13])\n",
            "epoch : 2/2, iter : 41:45, inputs torch.Size([4, 13])\n"
          ]
        }
      ]
    },
    {
      "cell_type": "code",
      "source": [
        "for epoch in range(n_epochs):\n",
        "  for i,(inputs2,labels2) in enumerate(dataloader2):\n",
        "    if (i%5)==0:\n",
        "      print(f'epoch : {epoch+1}/{n_epochs}, iter : {i+1}/{math.ceil(len(dataset)/7)}, inputs {inputs2.shape}')\n",
        "    if i==22:\n",
        "      print(inputs2)"
      ],
      "metadata": {
        "colab": {
          "base_uri": "https://localhost:8080/"
        },
        "id": "JREk-mM_m2zk",
        "outputId": "9f2fb0c1-85c4-4c7f-de4f-35c3d37677dc"
      },
      "execution_count": 28,
      "outputs": [
        {
          "output_type": "stream",
          "name": "stdout",
          "text": [
            "epoch : 1/2, iter : 1/26, inputs torch.Size([7, 13])\n",
            "epoch : 1/2, iter : 6/26, inputs torch.Size([7, 13])\n",
            "epoch : 1/2, iter : 11/26, inputs torch.Size([7, 13])\n",
            "epoch : 1/2, iter : 16/26, inputs torch.Size([7, 13])\n",
            "epoch : 1/2, iter : 21/26, inputs torch.Size([7, 13])\n",
            "tensor([[1.3580e+01, 2.5800e+00, 2.6900e+00, 2.4500e+01, 1.0500e+02, 1.5500e+00,\n",
            "         8.4000e-01, 3.9000e-01, 1.5400e+00, 8.6600e+00, 7.4000e-01, 1.8000e+00,\n",
            "         7.5000e+02],\n",
            "        [1.3030e+01, 9.0000e-01, 1.7100e+00, 1.6000e+01, 8.6000e+01, 1.9500e+00,\n",
            "         2.0300e+00, 2.4000e-01, 1.4600e+00, 4.6000e+00, 1.1900e+00, 2.4800e+00,\n",
            "         3.9200e+02],\n",
            "        [1.3160e+01, 2.3600e+00, 2.6700e+00, 1.8600e+01, 1.0100e+02, 2.8000e+00,\n",
            "         3.2400e+00, 3.0000e-01, 2.8100e+00, 5.6800e+00, 1.0300e+00, 3.1700e+00,\n",
            "         1.1850e+03],\n",
            "        [1.2290e+01, 3.1700e+00, 2.2100e+00, 1.8000e+01, 8.8000e+01, 2.8500e+00,\n",
            "         2.9900e+00, 4.5000e-01, 2.8100e+00, 2.3000e+00, 1.4200e+00, 2.8300e+00,\n",
            "         4.0600e+02],\n",
            "        [1.3740e+01, 1.6700e+00, 2.2500e+00, 1.6400e+01, 1.1800e+02, 2.6000e+00,\n",
            "         2.9000e+00, 2.1000e-01, 1.6200e+00, 5.8500e+00, 9.2000e-01, 3.2000e+00,\n",
            "         1.0600e+03],\n",
            "        [1.2290e+01, 1.4100e+00, 1.9800e+00, 1.6000e+01, 8.5000e+01, 2.5500e+00,\n",
            "         2.5000e+00, 2.9000e-01, 1.7700e+00, 2.9000e+00, 1.2300e+00, 2.7400e+00,\n",
            "         4.2800e+02],\n",
            "        [1.2080e+01, 1.1300e+00, 2.5100e+00, 2.4000e+01, 7.8000e+01, 2.0000e+00,\n",
            "         1.5800e+00, 4.0000e-01, 1.4000e+00, 2.2000e+00, 1.3100e+00, 2.7200e+00,\n",
            "         6.3000e+02]])\n",
            "epoch : 1/2, iter : 26/26, inputs torch.Size([3, 13])\n",
            "epoch : 2/2, iter : 1/26, inputs torch.Size([7, 13])\n",
            "epoch : 2/2, iter : 6/26, inputs torch.Size([7, 13])\n",
            "epoch : 2/2, iter : 11/26, inputs torch.Size([7, 13])\n",
            "epoch : 2/2, iter : 16/26, inputs torch.Size([7, 13])\n",
            "epoch : 2/2, iter : 21/26, inputs torch.Size([7, 13])\n",
            "tensor([[1.4100e+01, 2.1600e+00, 2.3000e+00, 1.8000e+01, 1.0500e+02, 2.9500e+00,\n",
            "         3.3200e+00, 2.2000e-01, 2.3800e+00, 5.7500e+00, 1.2500e+00, 3.1700e+00,\n",
            "         1.5100e+03],\n",
            "        [1.3110e+01, 1.0100e+00, 1.7000e+00, 1.5000e+01, 7.8000e+01, 2.9800e+00,\n",
            "         3.1800e+00, 2.6000e-01, 2.2800e+00, 5.3000e+00, 1.1200e+00, 3.1800e+00,\n",
            "         5.0200e+02],\n",
            "        [1.1450e+01, 2.4000e+00, 2.4200e+00, 2.0000e+01, 9.6000e+01, 2.9000e+00,\n",
            "         2.7900e+00, 3.2000e-01, 1.8300e+00, 3.2500e+00, 8.0000e-01, 3.3900e+00,\n",
            "         6.2500e+02],\n",
            "        [1.2670e+01, 9.8000e-01, 2.2400e+00, 1.8000e+01, 9.9000e+01, 2.2000e+00,\n",
            "         1.9400e+00, 3.0000e-01, 1.4600e+00, 2.6200e+00, 1.2300e+00, 3.1600e+00,\n",
            "         4.5000e+02],\n",
            "        [1.2960e+01, 3.4500e+00, 2.3500e+00, 1.8500e+01, 1.0600e+02, 1.3900e+00,\n",
            "         7.0000e-01, 4.0000e-01, 9.4000e-01, 5.2800e+00, 6.8000e-01, 1.7500e+00,\n",
            "         6.7500e+02],\n",
            "        [1.2470e+01, 1.5200e+00, 2.2000e+00, 1.9000e+01, 1.6200e+02, 2.5000e+00,\n",
            "         2.2700e+00, 3.2000e-01, 3.2800e+00, 2.6000e+00, 1.1600e+00, 2.6300e+00,\n",
            "         9.3700e+02],\n",
            "        [1.2700e+01, 3.8700e+00, 2.4000e+00, 2.3000e+01, 1.0100e+02, 2.8300e+00,\n",
            "         2.5500e+00, 4.3000e-01, 1.9500e+00, 2.5700e+00, 1.1900e+00, 3.1300e+00,\n",
            "         4.6300e+02]])\n",
            "epoch : 2/2, iter : 26/26, inputs torch.Size([3, 13])\n"
          ]
        }
      ]
    }
  ]
}